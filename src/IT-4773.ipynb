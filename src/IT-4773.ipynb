{
 "cells": [
  {
   "cell_type": "code",
   "execution_count": 5,
   "metadata": {},
   "outputs": [],
   "source": [
    "import pandas as pd\n",
    "import numpy as np\n",
    "import matplotlib.pyplot as plt\n",
    "from sklearn.model_selection import train_test_split\n",
    "from sklearn.ensemble import RandomForestRegressor\n",
    "from sklearn.metrics import mean_squared_error\n"
   ]
  },
  {
   "cell_type": "code",
   "execution_count": 10,
   "metadata": {},
   "outputs": [],
   "source": [
    "def read_custom_csv(file_path):\n",
    "    \"\"\"\n",
    "    Read and correct the format of a CSV file.\n",
    "\n",
    "    @param file_path: Path to the CSV file.\n",
    "    @return: A pandas DataFrame with corrected data format.\n",
    "    \"\"\"\n",
    "    data = []\n",
    "    with open(file_path, 'r') as file:\n",
    "        for line in file:\n",
    "            cleaned_line = line.strip().strip('\"').split(',')\n",
    "            data.append(cleaned_line)\n",
    "    df = pd.DataFrame(data[1:], columns=data[0])\n",
    "    df['Date'] = pd.to_datetime(df['Date'], errors='coerce')\n",
    "    for col in df.columns[1:]:\n",
    "        df[col] = pd.to_numeric(df[col], errors='coerce')\n",
    "    return df"
   ]
  },
  {
   "cell_type": "code",
   "execution_count": 12,
   "metadata": {},
   "outputs": [
    {
     "name": "stdout",
     "output_type": "stream",
     "text": [
      "dict_keys(['aadr', 'aaxj', 'acim', 'actx', 'acwf', 'acwi', 'acwv', 'acwx', 'adra', 'adrd', 'adre', 'adru', 'afk', 'agf', 'agg', 'agnd', 'agq', 'agz', 'agzd', 'aia', 'airr', 'ald', 'alfa', 'alts', 'amj', 'amjl', 'amlp', 'amu', 'angl', 'aoa', 'aok', 'aom', 'aor', 'argt', 'asea', 'ashr', 'ashs', 'atmp', 'ause', 'axjl', 'axjv', 'ayt', 'bab', 'bal', 'bbh', 'bbp', 'bbrc', 'bcm', 'bdcl', 'bdcs', 'bdd', 'bfor', 'bib', 'bick', 'bil', 'bis', 'biv', 'bizd', 'bjk', 'bkf', 'bkln', 'blv', 'bnd', 'bndx', 'bno', 'boil', 'bom', 'bond', 'braq', 'brf', 'brzu', 'bsch', 'bsci', 'bscj', 'bsck', 'bscl', 'bscm', 'bscn', 'bsco', 'bsjh', 'bsji', 'bsjj', 'bsjk', 'bsjl', 'bsjm', 'bsv', 'btal', 'bwv', 'bwx', 'bwz', 'byld', 'bzf', 'bzq', 'cafe', 'cane', 'cape', 'carz', 'cbnd', 'cbon', 'cefl', 'cew', 'cgw', 'chau', 'chep', 'chie', 'chii', 'chim', 'chiq', 'chix', 'choc', 'ciu', 'cjnk', 'cly', 'cmbs', 'cmdt', 'cmf', 'cn', 'cnda', 'cntr', 'cnxt', 'cny', 'comt', 'copx', 'corn', 'corp', 'cow', 'cper', 'cpi', 'cqqq', 'crbn', 'cred', 'croc', 'crop', 'csd', 'csj', 'csm', 'ctnn', 'cupm', 'cure', 'cut', 'cvy', 'cwb', 'cwi', 'cyb', 'cza', 'dag', 'dba', 'dbap', 'dbaw', 'dbb', 'dbbr', 'dbc', 'dbe', 'dbef', 'dbem', 'dbeu', 'dbez', 'dbgr', 'dbjp', 'dbko', 'dbmx', 'dbo', 'dbp', 'dbs', 'dbuk', 'dbv', 'dcng', 'ddg', 'ddm', 'ddp', 'def', 'dem', 'des', 'dew', 'dfe', 'dfj', 'dgaz', 'dgl', 'dgld', 'dgp', 'dgre', 'dgro', 'dgrs', 'dgrw', 'dgs', 'dgt', 'dgz', 'dhs', 'dia', 'dig', 'dim', 'dirt', 'div', 'djci', 'djp', 'dln', 'dls', 'dnl', 'dno', 'dod', 'dog', 'dol', 'don', 'doo', 'dpk', 'drip', 'drn', 'drr', 'drv', 'drw', 'dsi', 'dslv', 'dsum', 'dtd', 'dth', 'dtn', 'dto', 'dug', 'dust', 'dvhl', 'dvy', 'dvya', 'dvye', 'dvyl', 'dwm', 'dwx', 'dxd', 'dxge', 'dxj', 'dxjc', 'dxjf', 'dxjh', 'dxjr', 'dxjs', 'dxps', 'dyy', 'dzk', 'dzz', 'ebnd', 'ech', 'ecns', 'econ', 'edc', 'eden', 'ediv', 'edog', 'edv', 'edz', 'eeb', 'eeh', 'eelv', 'eem', 'eema', 'eems', 'eemv', 'ees', 'eet', 'eev', 'efa', 'efad', 'efav', 'effe', 'efg', 'efo', 'efu', 'efv', 'efz', 'egpt', 'eido', 'eirl', 'eis', 'eld', 'emag', 'emb', 'emcb', 'emcg', 'emfm', 'emif', 'emih', 'emlc', 'emlp', 'emsh', 'enfr', 'eny', 'enzl', 'ephe', 'epi', 'epol', 'epp', 'eps', 'epu', 'epv', 'eqal', 'eql', 'eqlt', 'eqwl', 'eqwm', 'eqws', 'ero', 'erus', 'erx', 'ery', 'eudg', 'eufn', 'eufx', 'eum', 'eumv', 'euo', 'eurl', 'eusa', 'eusc', 'evx', 'ewa', 'ewc', 'ewd', 'ewem', 'ewg', 'ewh', 'ewi', 'ewj', 'ewk', 'ewl', 'ewm', 'ewn', 'ewo', 'ewp', 'ewq', 'ews', 'ewt', 'ewu', 'ewv', 'eww', 'ewx', 'ewy', 'ewz', 'ewzs', 'exi', 'ext', 'eza', 'ezj', 'ezm', 'ezu', 'ezy', 'fab', 'fad', 'fam', 'fan', 'fas', 'faus', 'faz', 'fbgx', 'fbnd', 'fbt', 'fbz', 'fca', 'fcan', 'fcg', 'fcom', 'fcor', 'fct', 'fdd', 'fdis', 'fdiv', 'fdl', 'fdm', 'fdn', 'fdt', 'fdts', 'feeu', 'fei', 'fem', 'femb', 'fems', 'feny', 'feo', 'fep', 'feu', 'feuz', 'fex', 'fez', 'ffa', 'ffr', 'fgb', 'fgd', 'fgm', 'fhk', 'fhlc', 'fhy', 'fidu', 'fieg', 'fieu', 'fif', 'figy', 'fill', 'finu', 'finz', 'fiw', 'fjp', 'fko', 'fku', 'flag', 'flge', 'flm', 'fln', 'flot', 'flrn', 'flrt', 'fltb', 'fltr', 'fm', 'fmat', 'fmb', 'fmf', 'fmk', 'fmy', 'fncl', 'fnda', 'fndb', 'fndc', 'fnde', 'fndf', 'fndx', 'fni', 'fnk', 'fnx', 'fny', 'foil', 'fone', 'fpa', 'fpe', 'fpf', 'fpl', 'fpx', 'fpxi', 'frak', 'frel', 'fri', 'frn', 'fsd', 'fsta', 'fsz', 'fta', 'ftc', 'ftcs', 'ftec', 'ftgc', 'fthi', 'ftlb', 'ftls', 'ftsd', 'ftsl', 'ftsm', 'ftw', 'fud', 'fue', 'futy', 'fv', 'fvd', 'fvl', 'fwdb', 'fwdd', 'fwdi', 'fxa', 'fxb', 'fxc', 'fxch', 'fxd', 'fxe', 'fxeu', 'fxf', 'fxg', 'fxh', 'fxi', 'fxl', 'fxn', 'fxo', 'fxp', 'fxr', 'fxs', 'fxsg', 'fxu', 'fxy', 'fxz', 'fyc', 'fyld', 'fyt', 'fyx', 'gaa', 'gal', 'gasl', 'gaz', 'gbb', 'gbf', 'gcc', 'gce', 'gdx', 'gdxj', 'gdxs', 'gdxx', 'geur', 'gex', 'ghii', 'gii', 'gld', 'gldi', 'gll', 'gltr', 'gmf', 'gmom', 'gnma', 'gnr', 'govt', 'gqre', 'grek', 'gres', 'gri', 'grid', 'grn', 'gru', 'grwn', 'gsc', 'gsg', 'gsp', 'gsy', 'gulf', 'gunr', 'guru', 'gush', 'gval', 'gvi', 'gwx', 'gxc', 'gxf', 'gxg', 'gyen', 'gyld', 'hao', 'hap', 'hdg', 'hdge', 'hdv', 'heco', 'hedj', 'heem', 'hefa', 'hevy', 'hewg', 'hewj', 'hezu', 'hgi', 'hilo', 'hold', 'hspx', 'huse', 'hyd', 'hyem', 'hyg', 'hygh', 'hyih', 'hyld', 'hyls', 'hymb', 'hynd', 'hys', 'hyzd', 'iai', 'iak', 'iat', 'iau', 'ibb', 'ibcc', 'ibcd', 'ibce', 'ibdb', 'ibdc', 'ibdd', 'ibdh', 'ibdj', 'ibdk', 'ibdl', 'ibdm', 'ibdn', 'ibdo', 'ibdp', 'ibdq', 'ibln', 'ibmg', 'ibmh', 'ibmi', 'ibnd', 'icf', 'ici', 'icln', 'icol', 'idhq', 'idlv', 'idog', 'idu', 'idv', 'idx', 'ief', 'iefa', 'iei', 'iemg', 'ieo', 'ieur', 'ieus', 'iev', 'iez', 'ifeu', 'ifgl', 'ifv', 'ige', 'igf', 'igih', 'igm', 'ign', 'igov', 'igv', 'ihdg', 'ihe', 'ihf', 'ihi', 'ihy', 'ijh', 'ijj', 'ijk', 'ijr', 'ijs', 'ijt', 'ilf', 'iltb', 'imlp', 'imtm', 'inco', 'inda', 'indl', 'indy', 'inkm', 'inp', 'inr', 'intf', 'inxx', 'ioil', 'ioo', 'ipac', 'ipe', 'ipff', 'ipkw', 'ipo', 'iqde', 'iqdf', 'iqdy', 'iqlt', 'iscf', 'ishg', 'isra', 'istb', 'ita', 'itb', 'ite', 'itm', 'itot', 'iusb', 'iusg', 'iusv', 'ive', 'ivog', 'ivoo', 'ivov', 'ivv', 'ivw', 'iwb', 'iwc', 'iwd', 'iwf', 'iwl', 'iwm', 'iwn', 'iwo', 'iwp', 'iwr', 'iws', 'iwv', 'iwx', 'iwy', 'ixc', 'ixg', 'ixj', 'ixn', 'ixp', 'ixus', 'iyc', 'iye', 'iyf', 'iyg', 'iyh', 'iyj', 'iyk', 'iym', 'iyr', 'iyt', 'iyw', 'iyy', 'iyz', 'jdst', 'jhdg', 'jja', 'jjc', 'jje', 'jjg', 'jjm', 'jjn', 'jjp', 'jjs', 'jjt', 'jju', 'jkd', 'jke', 'jkf', 'jkg', 'jkh', 'jki', 'jkj', 'jkk', 'jkl', 'jnk', 'jnug', 'jo', 'jpge', 'jpmv', 'jpnl', 'jxi', 'kba', 'kbe', 'kbwp', 'kbwr', 'kce', 'kfyp', 'kie', 'know', 'kol', 'kold', 'koru', 'kre', 'kroo', 'kxi', 'labd', 'labu', 'lalt', 'lbj', 'ldri', 'ldur', 'lemb', 'lglv', 'lit', 'llsc', 'llsp', 'lmbs', 'lmlp', 'lowc', 'lqd', 'lqdh', 'lrgf', 'lstk', 'ltl', 'ltpz', 'lvl', 'math', 'mbb', 'mbg', 'mbsd', 'mchi', 'mcro', 'mdiv', 'mdy', 'mdyg', 'mdyv', 'mfd', 'mgc', 'mgk', 'mgv', 'midu', 'midz', 'minc', 'mint', 'mln', 'mlpa', 'mlpc', 'mlpg', 'mlpi', 'mlps', 'mlpx', 'mlpy', 'mmtm', 'mna', 'moat', 'mom', 'moo', 'morl', 'mort', 'mrgr', 'mtum', 'mub', 'muni', 'mvv', 'mxi', 'myy', 'mzz', 'nash', 'near', 'nfo', 'nfra', 'nge', 'nib', 'nini', 'nlr', 'nobl', 'norw', 'nugt', 'nyf', 'oef', 'oih', 'oil', 'olem', 'olo', 'oneq', 'ounz', 'paf', 'pagg', 'pak', 'pall', 'pbd', 'pbe', 'pbj', 'pbp', 'pbs', 'pbw', 'pcef', 'pcy', 'pdbc', 'pdn', 'pej', 'pek', 'pex', 'pey', 'pez', 'pff', 'pfig', 'pfm', 'pfxf', 'pgal', 'pgf', 'pghy', 'pgj', 'pgm', 'pgx', 'phb', 'phdg', 'picb', 'pick', 'pie', 'pin', 'pio', 'pjp', 'pkb', 'plnd', 'pmr', 'pnqi', 'ppa', 'pph', 'pplt', 'prb', 'prf', 'prfz', 'psau', 'pscc', 'pscd', 'psce', 'pscf', 'psch', 'psci', 'pscm', 'psct', 'pscu', 'psi', 'psj', 'psk', 'psp', 'psq', 'psr', 'pst', 'ptm', 'puw', 'pvi', 'pwb', 'pwc', 'pwv', 'pwz', 'pxe', 'pxf', 'pxh', 'pxj', 'pxlg', 'pxlv', 'pxmg', 'pxmv', 'pxq', 'pxr', 'pxsg', 'pxsv', 'pza', 'pzd', 'pzi', 'pzt', 'qaba', 'qai', 'qat', 'qcan', 'qcln', 'qdef', 'qdeu', 'qdf', 'qdyn', 'qed', 'qefa', 'qemm', 'qgbr', 'qid', 'qinc', 'qjpn', 'qld', 'qls', 'qlta', 'qmn', 'qqew', 'qqq', 'qqqc', 'qqqe', 'qqxt', 'qtec', 'qual', 'qus', 'qwld', 'qyld', 'rals', 'ravi', 'rcd', 'rdiv', 'rdvy', 'reet', 'regl', 'rek', 'rem', 'remx', 'retl', 'rew', 'rez', 'rfg', 'rfv', 'rgi', 'rhs', 'rigs', 'rinf', 'ring', 'rja', 'rji', 'rjn', 'rjz', 'rly', 'robo', 'rola', 'rom', 'roof', 'rpg', 'rpv', 'rsp', 'rsx', 'rsxj', 'rth', 'rtm', 'rusl', 'russ', 'rvnu', 'rwj', 'rwk', 'rwl', 'rwm', 'rwo', 'rwr', 'rww', 'rwx', 'rxd', 'rxi', 'rxl', 'rye', 'ryf', 'ryh', 'ryj', 'ryt', 'ryu', 'rzg', 'rzv', 'saa', 'sagg', 'sbb', 'sbio', 'sbm', 'scc', 'scha', 'schb', 'schc', 'schd', 'sche', 'schf', 'schg', 'schh', 'schm', 'scho', 'schp', 'schr', 'schv', 'schx', 'schz', 'scid', 'scif', 'scij', 'scin', 'sciu', 'scix', 'scj', 'sco', 'scto', 'scz', 'sdd', 'sdem', 'sdiv', 'sdog', 'sdow', 'sdp', 'sds', 'sdy', 'sdyl', 'sea', 'sef', 'sgar', 'sgdj', 'sgdm', 'sgg', 'sgol', 'sh', 'shm', 'shv', 'shy', 'shyd', 'shyg', 'sij', 'sil', 'silj', 'sivr', 'siz', 'size', 'sjb', 'sjnk', 'skf', 'skor', 'skyy', 'slqd', 'slv', 'slvo', 'slvp', 'slx', 'sly', 'slyg', 'slyv', 'smb', 'smdd', 'smdv', 'smez', 'smh', 'smlf', 'smll', 'smlv', 'smmu', 'smn', 'snln', 'socl', 'soil', 'soxl', 'soxs', 'soxx', 'soyb', 'spff', 'sphb', 'sphd', 'sphq', 'splv', 'splx', 'spuu', 'spxh', 'spxl', 'spxs', 'spxu', 'spy', 'spyb', 'spyg', 'spyv', 'sqqq', 'sret', 'srln', 'srs', 'srty', 'ssg', 'sso', 'stip', 'stpz', 'sub', 'svxy', 'sye', 'syg', 'syld', 'syv', 'szk', 'tags', 'tan', 'tao', 'tbf', 'tbt', 'tbx', 'tdiv', 'tdtf', 'tdtt', 'tecl', 'tecs', 'tfi', 'tflo', 'thd', 'tilt', 'tip', 'tipx', 'tipz', 'tlh', 'tlt', 'tltd', 'tlte', 'tmf', 'tmv', 'tna', 'tok', 'tolz', 'totl', 'tqqq', 'trsk', 'ttfs', 'ttt', 'tur', 'tusa', 'tuz', 'tvix', 'tviz', 'twm', 'tybs', 'tyd', 'tyns', 'tyo', 'tza', 'uae', 'uag', 'ubc', 'ubg', 'ubm', 'ubn', 'ubr', 'ubt', 'ucc', 'uci', 'uco', 'udn', 'udow', 'uga', 'ugaz', 'uge', 'ugl', 'ugld', 'uhn', 'ujb', 'ule', 'ulst', 'umdd', 'ung', 'unl', 'upro', 'upv', 'upw', 'ura', 'ure', 'urr', 'urth', 'urty', 'usag', 'usci', 'usd', 'usdu', 'usfr', 'usl', 'uslv', 'usmv', 'uso', 'ust', 'usv', 'uup', 'uvxy', 'uwm', 'uxi', 'uyg', 'uym', 'vaw', 'vb', 'vbk', 'vbr', 'vcit', 'vclt', 'vcr', 'vcsh', 'vdc', 'vde', 'vea', 'vega', 'vegi', 'veu', 'vfh', 'vgit', 'vgk', 'vglt', 'vgsh', 'vgt', 'vht', 'vidi', 'vig', 'viix', 'viiz', 'viog', 'vioo', 'viov', 'vis', 'vixm', 'vixy', 'vlu', 'vlue', 'vmbs', 'vnm', 'vnq', 'vnqi', 'vo', 'voe', 'vone', 'vong', 'vonv', 'voo', 'voog', 'voov', 'vot', 'vox', 'vpl', 'vpu', 'vqt', 'vrp', 'vss', 'vt', 'vthr', 'vti', 'vtip', 'vtv', 'vtwg', 'vtwo', 'vtwv', 'vug', 'vuse', 'vv', 'vwo', 'vwob', 'vxf', 'vxus', 'vxx', 'vxz', 'vym', 'wdiv', 'wdti', 'weat', 'weet', 'wip', 'wmcr', 'wmw', 'wood', 'wps', 'wrei', 'xar', 'xbi', 'xes', 'xhb', 'xhe', 'xhs', 'xiv', 'xlb', 'xle', 'xlf', 'xlg', 'xli', 'xlk', 'xlp', 'xlu', 'xlv', 'xly', 'xme', 'xmlv', 'xmpt', 'xop', 'xph', 'xpp', 'xrlv', 'xrt', 'xsd', 'xslv', 'xsoe', 'xsw', 'xt', 'xtl', 'xtn', 'xvz', 'yang', 'yao', 'ycl', 'ycs', 'ydiv', 'yinn', 'ylco', 'ymli', 'ymlp', 'yxi', 'yyy', 'ziv', 'zmlp', 'zroz', 'zsl'])\n"
     ]
    }
   ],
   "source": [
    "def calculate_rsi(series, period=14):\n",
    "    \"\"\"\n",
    "    Calculate the Relative Strength Index (RSI) for a given data series.\n",
    "\n",
    "    @param series: Pandas Series containing stock prices.\n",
    "    @param period: The number of periods to use for RSI calculation.\n",
    "    @return: Pandas Series containing the RSI values.\n",
    "    \"\"\"\n",
    "    delta = series.diff()\n",
    "    gain = (delta.where(delta > 0, 0)).rolling(window=period).mean()\n",
    "    loss = (-delta.where(delta < 0, 0)).rolling(window=period).mean()\n",
    "    rs = gain / loss\n",
    "    rsi = 100 - (100 / (1 + rs))\n",
    "    return rsi"
   ]
  },
  {
   "cell_type": "code",
   "execution_count": null,
   "metadata": {},
   "outputs": [],
   "source": [
    "def add_custom_features(df):\n",
    "    \"\"\"\n",
    "    Add custom features such as moving averages and RSI to the DataFrame.\n",
    "\n",
    "    @param df: Pandas DataFrame containing stock market data.\n",
    "    @return: Pandas DataFrame with additional features.\n",
    "    \"\"\"\n",
    "    df['MA5'] = df['Close'].rolling(window=5).mean()\n",
    "    df['MA10'] = df['Close'].rolling(window=10).mean()\n",
    "    df['RSI'] = calculate_rsi(df['Close'])\n",
    "    df.dropna(inplace=True)\n",
    "    return df"
   ]
  },
  {
   "cell_type": "code",
   "execution_count": null,
   "metadata": {},
   "outputs": [],
   "source": [
    "def prepare_data(df, target_col='Close'):\n",
    "    \"\"\"\n",
    "    Prepare data for modeling by splitting into features and target.\n",
    "\n",
    "    @param df: Pandas DataFrame containing the dataset.\n",
    "    @param target_col: Name of the target column.\n",
    "    @return: Tuple containing split training and testing datasets.\n",
    "    \"\"\"\n",
    "    features = df[['Open', 'High', 'Low', 'Volume', 'MA5', 'MA10', 'RSI']]\n",
    "    target = df[target_col]\n",
    "    return train_test_split(features, target, test_size=0.2, random_state=0)"
   ]
  },
  {
   "cell_type": "code",
   "execution_count": null,
   "metadata": {},
   "outputs": [],
   "source": [
    "def train_evaluate_model(X_train, X_test, y_train, y_test):\n",
    "    \"\"\"\n",
    "    Train and evaluate a Random Forest Regressor model.\n",
    "\n",
    "    @param X_train: Training data features.\n",
    "    @param X_test: Testing data features.\n",
    "    @param y_train: Training data target.\n",
    "    @param y_test: Testing data target.\n",
    "    @return: Tuple of the trained model and its RMSE on the test set.\n",
    "    \"\"\"\n",
    "    model = RandomForestRegressor(n_estimators=100, random_state=0)\n",
    "    model.fit(X_train, y_train)\n",
    "    predictions = model.predict(X_test)\n",
    "    mse = mean_squared_error(y_test, predictions)\n",
    "    return model, np.sqrt(mse)"
   ]
  },
  {
   "cell_type": "code",
   "execution_count": null,
   "metadata": {},
   "outputs": [],
   "source": [
    "# Updated plot_data function for raw data\n",
    "def plot_data(df, title):\n",
    "    \"\"\"\n",
    "    Plot the raw data of stock prices.\n",
    "\n",
    "    @param df: DataFrame containing the stock data.\n",
    "    @param title: Title of the plot.\n",
    "    \"\"\"\n",
    "    plt.figure(figsize=(12, 6))\n",
    "    plt.plot(df['Date'], df['Close'], label='Close Price')\n",
    "    plt.title(f'{title} - Raw Data')\n",
    "    plt.xlabel('Date')\n",
    "    plt.ylabel('Close Price')\n",
    "    plt.legend()\n",
    "    plt.show()"
   ]
  },
  {
   "cell_type": "code",
   "execution_count": null,
   "metadata": {},
   "outputs": [],
   "source": [
    "# Updated plot_training_validation_data function for training/validation data\n",
    "def plot_training_validation_data(df, X_train, y_train, X_test, y_test, title):\n",
    "    \"\"\"\n",
    "    Plot the training and validation data for stock prices.\n",
    "\n",
    "    @param df: Full DataFrame containing the stock data.\n",
    "    @param X_train: Training feature data (pandas DataFrame).\n",
    "    @param y_train: Training target data (pandas Series).\n",
    "    @param X_test: Validation feature data (pandas DataFrame).\n",
    "    @param y_test: Validation target data (pandas Series).\n",
    "    @param title: Title of the plot.\n",
    "    \"\"\"\n",
    "    plt.figure(figsize=(12, 6))\n",
    "    plt.scatter(df.loc[X_train.index, 'Date'], y_train, color='blue', label='Training Data')\n",
    "    plt.scatter(df.loc[X_test.index, 'Date'], y_test, color='orange', label='Validation Data')\n",
    "    plt.title(f'{title} - Training & Validation Data')\n",
    "    plt.xlabel('Date')\n",
    "    plt.ylabel('Close Price')\n",
    "    plt.legend()\n",
    "    plt.show()"
   ]
  },
  {
   "cell_type": "code",
   "execution_count": null,
   "metadata": {},
   "outputs": [],
   "source": [
    "def plot_raw_data(df, title='Stock Price Data'):\n",
    "    \"\"\"\n",
    "    Plot the raw data of stock prices.\n",
    "\n",
    "    Args:\n",
    "    df (pandas.DataFrame): DataFrame containing the stock data with 'Date' and 'Close' columns.\n",
    "    title (str): Title of the plot.\n",
    "\n",
    "    Returns:\n",
    "    None\n",
    "    \"\"\"\n",
    "    plt.figure(figsize=(12, 6))\n",
    "    plt.plot(df.index, df['Close'], label='Close Price', color='blue')\n",
    "    plt.title(title)\n",
    "    plt.xlabel('Date')\n",
    "    plt.ylabel('Close Price')\n",
    "    plt.legend()\n",
    "    plt.show()"
   ]
  },
  {
   "cell_type": "code",
   "execution_count": null,
   "metadata": {},
   "outputs": [],
   "source": [
    "# File paths for your CSV files\n",
    "file_paths = ['db/Stocks/bwen.csv', 'db/Stocks/cclp.csv', 'db/Stocks/iac.csv']\n",
    "\n",
    "# Reading and processing each file\n",
    "dataframes = {file_path.split('/')[-1].split('.')[0]: read_custom_csv(file_path) for file_path in file_paths}\n",
    "\n",
    "# Adding custom features, training models, and plotting results\n",
    "models_results = {}\n",
    "for key, df in dataframes.items():\n",
    "    # Plotting raw data for each stock\n",
    "    plot_raw_data(df, f\"{key.upper()} Stock - Raw Data\")\n",
    "    \n",
    "    enhanced_df = add_custom_features(df.copy())\n",
    "    X_train, X_test, y_train, y_test = prepare_data(enhanced_df, target_col='Close')\n",
    "    model, rmse = train_evaluate_model(X_train, X_test, y_train, y_test)\n",
    "    predictions = model.predict(X_test)\n",
    "\n",
    "    # Plotting raw data and training/validation data\n",
    "    plot_data(df, f\"{key.upper()} Stock\")\n",
    "    plot_training_validation_data(enhanced_df, X_train, y_train, X_test, y_test, f\"{key.upper()} Stock\")\n",
    "\n",
    "    models_results[key] = {'model': str(model), 'rmse': rmse}"
   ]
  },
  {
   "cell_type": "code",
   "execution_count": null,
   "metadata": {},
   "outputs": [],
   "source": [
    "# Outputting formatted results\n",
    "print(\"Model Results:\")\n",
    "for stock, result in models_results.items():\n",
    "    print(f\"\\nStock: {stock.upper()}\")\n",
    "    print(f\"Model Type: {result['model']}\")\n",
    "    print(f\"Root Mean Squared Error (RMSE): {result['rmse']:.4f}\")"
   ]
  }
 ],
 "metadata": {
  "kernelspec": {
   "display_name": "IT-4773",
   "language": "python",
   "name": "python3"
  },
  "language_info": {
   "codemirror_mode": {
    "name": "ipython",
    "version": 3
   },
   "file_extension": ".py",
   "mimetype": "text/x-python",
   "name": "python",
   "nbconvert_exporter": "python",
   "pygments_lexer": "ipython3",
   "version": "3.11.5"
  }
 },
 "nbformat": 4,
 "nbformat_minor": 2
}
